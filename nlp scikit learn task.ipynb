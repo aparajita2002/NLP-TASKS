{
 "cells": [
  {
   "cell_type": "code",
   "execution_count": 1,
   "id": "3f65a1f9",
   "metadata": {},
   "outputs": [],
   "source": [
    "#the further the vectors are , less is the similarity between documents\n",
    "#number of unique word is the size of one dimensional numeric array\n",
    "#task create a corpus taking three or four articles, take other articles and transform it and find similarity by taking the angle between documents\n",
    "#some editors- raul dias,lakshmi sankaran\n"
   ]
  },
  {
   "cell_type": "code",
   "execution_count": 8,
   "id": "f2bf4fb3",
   "metadata": {},
   "outputs": [],
   "source": [
    "from sklearn.feature_extraction.text import CountVectorizer\n"
   ]
  },
  {
   "cell_type": "code",
   "execution_count": 9,
   "id": "71e65a3c",
   "metadata": {},
   "outputs": [],
   "source": [
    "vect=CountVectorizer(binary=True)\n"
   ]
  },
  {
   "cell_type": "code",
   "execution_count": 10,
   "id": "3886086b",
   "metadata": {},
   "outputs": [],
   "source": [
    "corpus=[\"I have a German Shepherd\",\"German Shepherd is from Germany\",\"Germans love gossiping\"]\n"
   ]
  },
  {
   "cell_type": "code",
   "execution_count": 11,
   "id": "c7693db2",
   "metadata": {},
   "outputs": [
    {
     "data": {
      "text/plain": [
       "CountVectorizer(binary=True)"
      ]
     },
     "execution_count": 11,
     "metadata": {},
     "output_type": "execute_result"
    }
   ],
   "source": [
    "vect.fit(corpus)"
   ]
  },
  {
   "cell_type": "code",
   "execution_count": 12,
   "id": "f1a73c65",
   "metadata": {},
   "outputs": [],
   "source": [
    "vocab=vect.vocabulary_"
   ]
  },
  {
   "cell_type": "code",
   "execution_count": 13,
   "id": "d4cd025a",
   "metadata": {},
   "outputs": [
    {
     "name": "stdout",
     "output_type": "stream",
     "text": [
      "from:0\n",
      "german:1\n",
      "germans:2\n",
      "germany:3\n",
      "gossiping:4\n",
      "have:5\n",
      "is:6\n",
      "love:7\n",
      "shepherd:8\n"
     ]
    }
   ],
   "source": [
    "for key in sorted(vocab.keys()):\n",
    "    print(\"{}:{}\".format(key,vocab[key]))"
   ]
  },
  {
   "cell_type": "code",
   "execution_count": 14,
   "id": "eb3e485d",
   "metadata": {},
   "outputs": [
    {
     "name": "stdout",
     "output_type": "stream",
     "text": [
      "[[0 1 0 1 0 0 0 0 1]]\n"
     ]
    }
   ],
   "source": [
    "print(vect.transform([\"Germany has German Shepherd\"]).toarray())"
   ]
  },
  {
   "cell_type": "code",
   "execution_count": 15,
   "id": "2b90186f",
   "metadata": {},
   "outputs": [],
   "source": [
    "#cosine similarity\n",
    "from sklearn.metrics.pairwise import cosine_similarity\n",
    "similarity=cosine_similarity(vect.transform([\"Germany has German Shepherd\"]).toarray(),vect.transform([\"Germany has Berlin as its capital\"]).toarray())"
   ]
  },
  {
   "cell_type": "code",
   "execution_count": 16,
   "id": "9beaa9a4",
   "metadata": {},
   "outputs": [
    {
     "name": "stdout",
     "output_type": "stream",
     "text": [
      "[[0.57735027]]\n"
     ]
    }
   ],
   "source": [
    "print(similarity)"
   ]
  },
  {
   "cell_type": "code",
   "execution_count": 1,
   "id": "6fcc15ec",
   "metadata": {},
   "outputs": [],
   "source": [
    "#make a corpus of 3 or 4 articles of any writer and vectorize it\n",
    "#find similarity between last and second last article\n",
    "#if similarity is less than 50% then the articles are different an the is still a creative writer\n",
    "#monday 6 am send the screenshot and github link to maam on teams.\n"
   ]
  },
  {
   "cell_type": "code",
   "execution_count": 2,
   "id": "e18d8d22",
   "metadata": {},
   "outputs": [],
   "source": [
    "#task- finding the similarity between articles written by Lakshmi sankaran\n",
    "from sklearn.feature_extraction.text import CountVectorizer\n"
   ]
  },
  {
   "cell_type": "code",
   "execution_count": 3,
   "id": "63fcb5a0",
   "metadata": {},
   "outputs": [],
   "source": [
    "vect=CountVectorizer(binary=True)"
   ]
  },
  {
   "cell_type": "code",
   "execution_count": 5,
   "id": "e0fe45a4",
   "metadata": {},
   "outputs": [],
   "source": [
    "corpus_articles=[\"Indonesia is dangling the ultimate perk to digital nomads dreaming of living and working out of Bali: a five-year long-stay permit that does not require them to pay any taxes in the country. The nation’s tourism minister told Bloomberg that as long as digital nomads can work for companies or industries based outside Indonesia, they are eligible for no taxation on a five-year visa. Bali is also keen to reinvent its image as a hard-partying, sun-and-surf destination and will give preference to remote workers who show their commitment to the island’s sustainable and eco-friendly goals.\",\"While the Southeast Asian country had relaxed travel restrictions for tourists last month, many of its dive bars, karaoke clubs and nightlife spots were hindered by local curfew guidelines. Starting June, the government will do away with the last set of curbs in the green and blue zones, hoping that it will bring patrons roaring back to these establishments. Bars in yellow zones with high rate of infections will still remain shuttered.\"]\n"
   ]
  },
  {
   "cell_type": "code",
   "execution_count": 19,
   "id": "9e1c3d60",
   "metadata": {},
   "outputs": [
    {
     "data": {
      "text/plain": [
       "CountVectorizer(binary=True)"
      ]
     },
     "execution_count": 19,
     "metadata": {},
     "output_type": "execute_result"
    }
   ],
   "source": [
    "vect.fit(corpus_articles)"
   ]
  },
  {
   "cell_type": "code",
   "execution_count": 20,
   "id": "c4f8c1c1",
   "metadata": {},
   "outputs": [],
   "source": [
    "vocab_articles=vect.vocabulary_"
   ]
  },
  {
   "cell_type": "code",
   "execution_count": 21,
   "id": "468c851f",
   "metadata": {},
   "outputs": [
    {
     "name": "stdout",
     "output_type": "stream",
     "text": [
      "also:0\n",
      "and:1\n",
      "any:2\n",
      "are:3\n",
      "as:4\n",
      "asian:5\n",
      "away:6\n",
      "back:7\n",
      "bali:8\n",
      "bars:9\n",
      "based:10\n",
      "bloomberg:11\n",
      "blue:12\n",
      "bring:13\n",
      "by:14\n",
      "can:15\n",
      "clubs:16\n",
      "commitment:17\n",
      "companies:18\n",
      "country:19\n",
      "curbs:20\n",
      "curfew:21\n",
      "dangling:22\n",
      "destination:23\n",
      "digital:24\n",
      "dive:25\n",
      "do:26\n",
      "does:27\n",
      "dreaming:28\n",
      "eco:29\n",
      "eligible:30\n",
      "establishments:31\n",
      "five:32\n",
      "for:33\n",
      "friendly:34\n",
      "give:35\n",
      "goals:36\n",
      "government:37\n",
      "green:38\n",
      "guidelines:39\n",
      "had:40\n",
      "hard:41\n",
      "high:42\n",
      "hindered:43\n",
      "hoping:44\n",
      "image:45\n",
      "in:46\n",
      "indonesia:47\n",
      "industries:48\n",
      "infections:49\n",
      "is:50\n",
      "island:51\n",
      "it:52\n",
      "its:53\n",
      "june:54\n",
      "karaoke:55\n",
      "keen:56\n",
      "last:57\n",
      "living:58\n",
      "local:59\n",
      "long:60\n",
      "many:61\n",
      "minister:62\n",
      "month:63\n",
      "nation:64\n",
      "nightlife:65\n",
      "no:66\n",
      "nomads:67\n",
      "not:68\n",
      "of:69\n",
      "on:70\n",
      "or:71\n",
      "out:72\n",
      "outside:73\n",
      "partying:74\n",
      "patrons:75\n",
      "pay:76\n",
      "perk:77\n",
      "permit:78\n",
      "preference:79\n",
      "rate:80\n",
      "reinvent:81\n",
      "relaxed:82\n",
      "remain:83\n",
      "remote:84\n",
      "require:85\n",
      "restrictions:86\n",
      "roaring:87\n",
      "set:88\n",
      "show:89\n",
      "shuttered:90\n",
      "southeast:91\n",
      "spots:92\n",
      "starting:93\n",
      "stay:94\n",
      "still:95\n",
      "sun:96\n",
      "surf:97\n",
      "sustainable:98\n",
      "taxation:99\n",
      "taxes:100\n",
      "that:101\n",
      "the:102\n",
      "their:103\n",
      "them:104\n",
      "these:105\n",
      "they:106\n",
      "to:107\n",
      "told:108\n",
      "tourism:109\n",
      "tourists:110\n",
      "travel:111\n",
      "ultimate:112\n",
      "visa:113\n",
      "were:114\n",
      "while:115\n",
      "who:116\n",
      "will:117\n",
      "with:118\n",
      "work:119\n",
      "workers:120\n",
      "working:121\n",
      "year:122\n",
      "yellow:123\n",
      "zones:124\n"
     ]
    }
   ],
   "source": [
    "for key in sorted(vocab_articles.keys()):\n",
    "    print(\"{}:{}\".format(key,vocab_articles[key]))"
   ]
  },
  {
   "cell_type": "code",
   "execution_count": 22,
   "id": "b835466e",
   "metadata": {},
   "outputs": [
    {
     "name": "stdout",
     "output_type": "stream",
     "text": [
      "[[0 1 0 1 0 0 0 0 0 0 0 0 0 0 0 0 0 0 0 0 0 0 0 0 0 0 0 0 0 0 0 1 0 0 0 0\n",
      "  0 0 0 0 0 0 0 0 0 0 1 0 0 0 0 0 0 1 0 0 0 0 0 0 0 0 0 0 0 0 0 0 0 1 0 0\n",
      "  0 0 0 0 0 0 0 0 0 0 0 0 0 0 0 0 0 0 0 0 0 0 0 0 0 0 0 0 0 1 1 0 0 0 0 0\n",
      "  0 0 0 0 0 0 0 0 0 0 0 0 0 0 1 0 0]]\n"
     ]
    }
   ],
   "source": [
    "print(vect.transform([\"Every year the Council of Europe certifies new trails across the continent that showcase its ancient, diverse and colourful cultural and artistic legacy; this year’s three additions are ‘Historic Cafés of Europe’ (featuring 18th-20th century establishments across 15 countries), the European Fairy Tale Route (rooted in folklore and famous legends from 8 nations) and the ‘Women Writers Route’ (fashioned after literary names that bolstered women’s advancement in 6 countries).\"]).toarray())"
   ]
  },
  {
   "cell_type": "code",
   "execution_count": 24,
   "id": "aff3c821",
   "metadata": {},
   "outputs": [],
   "source": [
    "#cosine similarity\n",
    "from sklearn.metrics.pairwise import cosine_similarity\n",
    "similarity=cosine_similarity(vect.transform([\"Indonesia is dangling the ultimate perk to digital nomads dreaming of living and working out of Bali: a five-year long-stay permit that does not require them to pay any taxes in the country. The nation’s tourism minister told Bloomberg that as long as digital nomads can work for companies or industries based outside Indonesia, they are eligible for no taxation on a five-year visa. Bali is also keen to reinvent its image as a hard-partying, sun-and-surf destination and will give preference to remote workers who show their commitment to the island’s sustainable and eco-friendly goals.\"]).toarray(),vect.transform([\"Every year the Council of Europe certifies new trails across the continent that showcase its ancient, diverse and colourful cultural and artistic legacy; this year’s three additions are ‘Historic Cafés of Europe’ (featuring 18th-20th century establishments across 15 countries), the European Fairy Tale Route (rooted in folklore and famous legends from 8 nations) and the ‘Women Writers Route’ (fashioned after literary names that bolstered women’s advancement in 6 countries).\"]).toarray())"
   ]
  },
  {
   "cell_type": "code",
   "execution_count": 25,
   "id": "8fac250a",
   "metadata": {},
   "outputs": [
    {
     "name": "stdout",
     "output_type": "stream",
     "text": [
      "[[0.30588765]]\n"
     ]
    }
   ],
   "source": [
    "print(similarity)\n",
    "#since the similarity is 30% Lakshmi sankaran is a creative writer"
   ]
  },
  {
   "cell_type": "code",
   "execution_count": null,
   "id": "312982eb",
   "metadata": {},
   "outputs": [],
   "source": []
  }
 ],
 "metadata": {
  "kernelspec": {
   "display_name": "Python 3 (ipykernel)",
   "language": "python",
   "name": "python3"
  },
  "language_info": {
   "codemirror_mode": {
    "name": "ipython",
    "version": 3
   },
   "file_extension": ".py",
   "mimetype": "text/x-python",
   "name": "python",
   "nbconvert_exporter": "python",
   "pygments_lexer": "ipython3",
   "version": "3.9.13"
  }
 },
 "nbformat": 4,
 "nbformat_minor": 5
}
