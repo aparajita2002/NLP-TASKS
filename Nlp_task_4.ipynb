{
 "cells": [
  {
   "cell_type": "code",
   "execution_count": 7,
   "id": "f4b11b4f",
   "metadata": {},
   "outputs": [],
   "source": [
    "from  urllib import request"
   ]
  },
  {
   "cell_type": "code",
   "execution_count": 8,
   "id": "8c054738",
   "metadata": {},
   "outputs": [],
   "source": [
    "url=\" https://www.gutenberg.org/files/98/98-0.txt\""
   ]
  },
  {
   "cell_type": "code",
   "execution_count": 9,
   "id": "ca211433",
   "metadata": {},
   "outputs": [],
   "source": [
    "response=request.urlopen(url)"
   ]
  },
  {
   "cell_type": "code",
   "execution_count": 10,
   "id": "01f4deb1",
   "metadata": {},
   "outputs": [],
   "source": [
    "raw=response.read().decode('utf8')"
   ]
  },
  {
   "cell_type": "code",
   "execution_count": 11,
   "id": "eaad0d83",
   "metadata": {},
   "outputs": [],
   "source": [
    "import nltk\n",
    "from nltk.tokenize import word_tokenize\n",
    "tokens=word_tokenize(raw)"
   ]
  },
  {
   "cell_type": "code",
   "execution_count": 12,
   "id": "8a9717a0",
   "metadata": {},
   "outputs": [
    {
     "name": "stdout",
     "output_type": "stream",
     "text": [
      "['\\ufeffThe', 'Project', 'Gutenberg', 'eBook', 'of', 'A', 'Tale', 'of', 'Two', 'Cities', ',', 'by', 'Charles', 'Dickens', 'This', 'eBook', 'is', 'for', 'the', 'use']\n"
     ]
    }
   ],
   "source": [
    "print(tokens[:20])"
   ]
  },
  {
   "cell_type": "code",
   "execution_count": 20,
   "id": "38b52999",
   "metadata": {},
   "outputs": [
    {
     "data": {
      "text/plain": [
       "'walk'"
      ]
     },
     "execution_count": 20,
     "metadata": {},
     "output_type": "execute_result"
    }
   ],
   "source": [
    "from nltk.stem import PorterStemmer\n",
    "porter=PorterStemmer()\n",
    "porter.stem(\"walking\")"
   ]
  },
  {
   "cell_type": "code",
   "execution_count": 21,
   "id": "dea80a2a",
   "metadata": {},
   "outputs": [
    {
     "data": {
      "text/plain": [
       "'happi'"
      ]
     },
     "execution_count": 21,
     "metadata": {},
     "output_type": "execute_result"
    }
   ],
   "source": [
    "from nltk.stem import PorterStemmer\n",
    "porter=PorterStemmer()\n",
    "porter.stem(\"happiness\")"
   ]
  },
  {
   "cell_type": "code",
   "execution_count": 17,
   "id": "0e7d41fb",
   "metadata": {},
   "outputs": [
    {
     "data": {
      "text/plain": [
       "'happy'"
      ]
     },
     "execution_count": 17,
     "metadata": {},
     "output_type": "execute_result"
    }
   ],
   "source": [
    "from nltk.stem import LancasterStemmer\n",
    "porter=LancasterStemmer()\n",
    "porter.stem(\"happiness\")"
   ]
  },
  {
   "cell_type": "code",
   "execution_count": 18,
   "id": "a4f76db1",
   "metadata": {},
   "outputs": [
    {
     "data": {
      "text/plain": [
       "'s'"
      ]
     },
     "execution_count": 18,
     "metadata": {},
     "output_type": "execute_result"
    }
   ],
   "source": [
    "from nltk.stem import RegexpStemmer\n",
    "porter=RegexpStemmer(\"ing\")\n",
    "porter.stem(\"singing\")"
   ]
  },
  {
   "cell_type": "code",
   "execution_count": 19,
   "id": "bf4508c2",
   "metadata": {},
   "outputs": [
    {
     "data": {
      "text/plain": [
       "'detest'"
      ]
     },
     "execution_count": 19,
     "metadata": {},
     "output_type": "execute_result"
    }
   ],
   "source": [
    "from nltk.stem import SnowballStemmer\n",
    "porter=SnowballStemmer(\"french\")\n",
    "porter.stem(\"detester\")"
   ]
  },
  {
   "cell_type": "code",
   "execution_count": 22,
   "id": "2a0dc247",
   "metadata": {},
   "outputs": [],
   "source": [
    "porter=PorterStemmer()\n",
    "text=\"It was the best of times, it was the worst of times, it was the age of wisdom, it was the age of foolishness\"\n",
    "text=[porter.stem(token) for token in text.split(\" \")]\n"
   ]
  },
  {
   "cell_type": "code",
   "execution_count": 23,
   "id": "a7486ed0",
   "metadata": {},
   "outputs": [
    {
     "name": "stdout",
     "output_type": "stream",
     "text": [
      "it wa the best of times, it wa the worst of times, it wa the age of wisdom, it wa the age of foolish\n"
     ]
    }
   ],
   "source": [
    "print(\" \".join(text))"
   ]
  },
  {
   "cell_type": "code",
   "execution_count": null,
   "id": "45212fc0",
   "metadata": {},
   "outputs": [],
   "source": []
  }
 ],
 "metadata": {
  "kernelspec": {
   "display_name": "Python 3 (ipykernel)",
   "language": "python",
   "name": "python3"
  },
  "language_info": {
   "codemirror_mode": {
    "name": "ipython",
    "version": 3
   },
   "file_extension": ".py",
   "mimetype": "text/x-python",
   "name": "python",
   "nbconvert_exporter": "python",
   "pygments_lexer": "ipython3",
   "version": "3.9.13"
  }
 },
 "nbformat": 4,
 "nbformat_minor": 5
}
